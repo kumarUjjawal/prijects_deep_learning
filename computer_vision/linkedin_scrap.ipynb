{
 "cells": [
  {
   "cell_type": "code",
   "execution_count": 9,
   "id": "c9d824b3",
   "metadata": {},
   "outputs": [],
   "source": [
    "from selenium import webdriver\n",
    "from selenium.webdriver.common.by import By\n",
    "from bs4 import BeautifulSoup\n",
    "import time\n",
    "\n",
    "driver = webdriver.Firefox()\n",
    "# Creating a webdriver instance\n",
    "#driver = webdriver.Firefox(\"/home/ujjawal/Downloads/geckodriver-v0.33.0-linux-aarch64\")\n",
    "# This instance will be used to log into LinkedIn\n",
    "\n",
    "# Opening linkedIn's login page\n",
    "driver.get(\"https://linkedin.com/uas/login\")\n",
    "\n",
    "# waiting for the page to load\n",
    "time.sleep(5)\n",
    "\n",
    "# entering username\n",
    "username = driver.find_element(By.ID, \"username\")\n",
    "\n",
    "# In case of an error, try changing the element\n",
    "# tag used here.\n",
    "\n",
    "# Enter Your Email Address\n",
    "username.send_keys(\"User_email\")\n",
    "\n",
    "# entering password\n",
    "pword = driver.find_element(By.ID, \"password\")\n",
    "# In case of an error, try changing the element\n",
    "# tag used here.\n",
    "\n",
    "# Enter Your Password\n",
    "pword.send_keys(\"User_pass\")\t\n",
    "\n",
    "# Clicking on the log in button\n",
    "# Format (syntax) of writing XPath -->\n",
    "# //tagname[@attribute='value']\n",
    "driver.find_element(By.XPATH, \"//button[@type='submit']\").click()\n",
    "# In case of an error, try changing the\n",
    "# XPath used here.\n"
   ]
  },
  {
   "cell_type": "code",
   "execution_count": 17,
   "id": "7186528b",
   "metadata": {},
   "outputs": [],
   "source": [
    "import requests\n",
    "import io\n",
    "import pygame\n",
    "import traceback\n",
    "\n",
    "def loadURLImage(url, headers='', timeout=10):\n",
    "\n",
    "    image = None\n",
    "\n",
    "    try:\n",
    "        with requests.get(url, headers=headers, timeout=timeout) as pic:\n",
    "            image_str = pic.content\n",
    "            image_file = io.BytesIO(image_str)\n",
    "            # Use .convert_alpha() if you find troubles with transparency\n",
    "            # image = pygame.image.load(image_file)\n",
    "    except:\n",
    "        print(\"Error getting image from URL\", url)\n",
    "        print(traceback.format_exc())\n",
    "\n",
    "    return image"
   ]
  },
  {
   "cell_type": "code",
   "execution_count": 18,
   "id": "e591bf97",
   "metadata": {},
   "outputs": [
    {
     "name": "stdout",
     "output_type": "stream",
     "text": [
      "<class 'requests.models.Response'>\n"
     ]
    }
   ],
   "source": [
    "loadURLImage(\"https://www.linkedin.com/in/kumar-ujjawal-286978b1/\")"
   ]
  },
  {
   "cell_type": "code",
   "execution_count": 12,
   "id": "89a0796b",
   "metadata": {},
   "outputs": [
    {
     "ename": "TypeError",
     "evalue": "'NoneType' object is not subscriptable",
     "output_type": "error",
     "traceback": [
      "\u001b[0;31m---------------------------------------------------------------------------\u001b[0m",
      "\u001b[0;31mTypeError\u001b[0m                                 Traceback (most recent call last)",
      "Cell \u001b[0;32mIn[12], line 27\u001b[0m\n\u001b[1;32m     24\u001b[0m     profile_img \u001b[38;5;241m=\u001b[39m soup\u001b[38;5;241m.\u001b[39mfind(\u001b[38;5;124m\"\u001b[39m\u001b[38;5;124mimg\u001b[39m\u001b[38;5;124m\"\u001b[39m, class_\u001b[38;5;241m=\u001b[39m\u001b[38;5;124m\"\u001b[39m\u001b[38;5;124mprofile-photo-edit__preview xh-highlight\u001b[39m\u001b[38;5;124m\"\u001b[39m)\n\u001b[1;32m     26\u001b[0m \u001b[38;5;28;01mif\u001b[39;00m \u001b[38;5;18m__name__\u001b[39m \u001b[38;5;241m==\u001b[39m \u001b[38;5;124m\"\u001b[39m\u001b[38;5;124m__main__\u001b[39m\u001b[38;5;124m\"\u001b[39m:\n\u001b[0;32m---> 27\u001b[0m     \u001b[43mmain\u001b[49m\u001b[43m(\u001b[49m\u001b[43m)\u001b[49m\n",
      "Cell \u001b[0;32mIn[12], line 12\u001b[0m, in \u001b[0;36mmain\u001b[0;34m()\u001b[0m\n\u001b[1;32m     10\u001b[0m html \u001b[38;5;241m=\u001b[39m client\u001b[38;5;241m.\u001b[39mget(HOMEPAGE_URL)\u001b[38;5;241m.\u001b[39mtext\n\u001b[1;32m     11\u001b[0m soup \u001b[38;5;241m=\u001b[39m BeautifulSoup(html)\n\u001b[0;32m---> 12\u001b[0m csrf \u001b[38;5;241m=\u001b[39m \u001b[43msoup\u001b[49m\u001b[38;5;241;43m.\u001b[39;49m\u001b[43mfind\u001b[49m\u001b[43m(\u001b[49m\u001b[38;5;28;43mid\u001b[39;49m\u001b[38;5;241;43m=\u001b[39;49m\u001b[38;5;124;43m\"\u001b[39;49m\u001b[38;5;124;43mloginCsrfParam-login\u001b[39;49m\u001b[38;5;124;43m\"\u001b[39;49m\u001b[43m)\u001b[49m\u001b[43m[\u001b[49m\u001b[38;5;124;43m'\u001b[39;49m\u001b[38;5;124;43mvalue\u001b[39;49m\u001b[38;5;124;43m'\u001b[39;49m\u001b[43m]\u001b[49m\n\u001b[1;32m     14\u001b[0m login_information \u001b[38;5;241m=\u001b[39m {\n\u001b[1;32m     15\u001b[0m     \u001b[38;5;124m'\u001b[39m\u001b[38;5;124msession_key\u001b[39m\u001b[38;5;124m'\u001b[39m: \u001b[38;5;124m\"\u001b[39m\u001b[38;5;124musername\u001b[39m\u001b[38;5;124m\"\u001b[39m,\n\u001b[1;32m     16\u001b[0m     \u001b[38;5;124m'\u001b[39m\u001b[38;5;124msession_password\u001b[39m\u001b[38;5;124m'\u001b[39m: \u001b[38;5;124m\"\u001b[39m\u001b[38;5;124mpassword\u001b[39m\u001b[38;5;124m\"\u001b[39m,\n\u001b[1;32m     17\u001b[0m     \u001b[38;5;124m'\u001b[39m\u001b[38;5;124mloginCsrfParam-login\u001b[39m\u001b[38;5;124m'\u001b[39m: csrf,\n\u001b[1;32m     18\u001b[0m }\n\u001b[1;32m     20\u001b[0m client\u001b[38;5;241m.\u001b[39mpost(LOGIN_URL, data\u001b[38;5;241m=\u001b[39mlogin_information)\n",
      "\u001b[0;31mTypeError\u001b[0m: 'NoneType' object is not subscriptable"
     ]
    }
   ],
   "source": [
    "import requests\n",
    "from bs4 import BeautifulSoup\n",
    "\n",
    "def main():\n",
    "    client = requests.Session()\n",
    "\n",
    "    HOMEPAGE_URL = 'https://www.linkedin.com'\n",
    "    LOGIN_URL = 'https://www.linkedin.com/uas/login-submit'\n",
    "\n",
    "    html = client.get(HOMEPAGE_URL).text\n",
    "    soup = BeautifulSoup(html)\n",
    "    csrf = soup.find(id=\"loginCsrfParam-login\")['value']\n",
    "\n",
    "    login_information = {\n",
    "        'session_key': \"username\",\n",
    "        'session_password': \"password\",\n",
    "        'loginCsrfParam-login': csrf,\n",
    "    }\n",
    "\n",
    "    client.post(LOGIN_URL, data=login_information)\n",
    "\n",
    "    html = client.get('https://www.linkedin.com/in/hack-the-planet/').text\n",
    "    soup = BeautifulSoup(html)\n",
    "    profile_img = soup.find(\"img\", class_=\"profile-photo-edit__preview xh-highlight\")\n",
    "\n",
    "if __name__ == \"__main__\":\n",
    "    main()"
   ]
  },
  {
   "cell_type": "code",
   "execution_count": null,
   "id": "7fc3ac5d",
   "metadata": {},
   "outputs": [],
   "source": []
  }
 ],
 "metadata": {
  "kernelspec": {
   "display_name": "Python 3 (ipykernel)",
   "language": "python",
   "name": "python3"
  },
  "language_info": {
   "codemirror_mode": {
    "name": "ipython",
    "version": 3
   },
   "file_extension": ".py",
   "mimetype": "text/x-python",
   "name": "python",
   "nbconvert_exporter": "python",
   "pygments_lexer": "ipython3",
   "version": "3.11.3"
  }
 },
 "nbformat": 4,
 "nbformat_minor": 5
}
