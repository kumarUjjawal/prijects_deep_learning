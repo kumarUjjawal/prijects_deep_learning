{
 "cells": [
  {
   "cell_type": "code",
   "execution_count": 1,
   "id": "1d0af7be",
   "metadata": {},
   "outputs": [
    {
     "name": "stderr",
     "output_type": "stream",
     "text": [
      "2023-06-19 10:01:59.497742: W tensorflow/stream_executor/platform/default/dso_loader.cc:64] Could not load dynamic library 'libcudart.so.11.0'; dlerror: libcudart.so.11.0: cannot open shared object file: No such file or directory; LD_LIBRARY_PATH: /home/ujjawal/miniconda3/envs/deep/lib/python3.7/site-packages/cv2/../../lib64:\n",
      "2023-06-19 10:01:59.497762: I tensorflow/stream_executor/cuda/cudart_stub.cc:29] Ignore above cudart dlerror if you do not have a GPU set up on your machine.\n"
     ]
    }
   ],
   "source": [
    "from deepface import DeepFace"
   ]
  },
  {
   "cell_type": "code",
   "execution_count": 3,
   "id": "86c04ec6",
   "metadata": {
    "scrolled": true
   },
   "outputs": [
    {
     "name": "stderr",
     "output_type": "stream",
     "text": [
      "2023-06-17 15:49:23.527439: I tensorflow/stream_executor/cuda/cuda_gpu_executor.cc:939] successful NUMA node read from SysFS had negative value (-1), but there must be at least one NUMA node, so returning NUMA node zero\n",
      "2023-06-17 15:49:23.527780: W tensorflow/stream_executor/platform/default/dso_loader.cc:64] Could not load dynamic library 'libcudart.so.11.0'; dlerror: libcudart.so.11.0: cannot open shared object file: No such file or directory; LD_LIBRARY_PATH: /home/ujjawal/miniconda3/envs/deep/lib/python3.7/site-packages/cv2/../../lib64:\n",
      "2023-06-17 15:49:23.528170: W tensorflow/stream_executor/platform/default/dso_loader.cc:64] Could not load dynamic library 'libcublas.so.11'; dlerror: libcublas.so.11: cannot open shared object file: No such file or directory; LD_LIBRARY_PATH: /home/ujjawal/miniconda3/envs/deep/lib/python3.7/site-packages/cv2/../../lib64:\n",
      "2023-06-17 15:49:23.528295: W tensorflow/stream_executor/platform/default/dso_loader.cc:64] Could not load dynamic library 'libcublasLt.so.11'; dlerror: libcublasLt.so.11: cannot open shared object file: No such file or directory; LD_LIBRARY_PATH: /home/ujjawal/miniconda3/envs/deep/lib/python3.7/site-packages/cv2/../../lib64:\n",
      "2023-06-17 15:49:23.528664: W tensorflow/stream_executor/platform/default/dso_loader.cc:64] Could not load dynamic library 'libcufft.so.10'; dlerror: libcufft.so.10: cannot open shared object file: No such file or directory; LD_LIBRARY_PATH: /home/ujjawal/miniconda3/envs/deep/lib/python3.7/site-packages/cv2/../../lib64:\n",
      "2023-06-17 15:49:23.559490: W tensorflow/stream_executor/platform/default/dso_loader.cc:64] Could not load dynamic library 'libcusparse.so.11'; dlerror: libcusparse.so.11: cannot open shared object file: No such file or directory; LD_LIBRARY_PATH: /home/ujjawal/miniconda3/envs/deep/lib/python3.7/site-packages/cv2/../../lib64:\n",
      "2023-06-17 15:49:23.559761: W tensorflow/stream_executor/platform/default/dso_loader.cc:64] Could not load dynamic library 'libcudnn.so.8'; dlerror: libcudnn.so.8: cannot open shared object file: No such file or directory; LD_LIBRARY_PATH: /home/ujjawal/miniconda3/envs/deep/lib/python3.7/site-packages/cv2/../../lib64:\n",
      "2023-06-17 15:49:23.559772: W tensorflow/core/common_runtime/gpu/gpu_device.cc:1850] Cannot dlopen some GPU libraries. Please make sure the missing libraries mentioned above are installed properly if you would like to use GPU. Follow the guide at https://www.tensorflow.org/install/gpu for how to download and setup the required libraries for your platform.\n",
      "Skipping registering GPU devices...\n",
      "2023-06-17 15:49:23.560051: I tensorflow/core/platform/cpu_feature_guard.cc:151] This TensorFlow binary is optimized with oneAPI Deep Neural Network Library (oneDNN) to use the following CPU instructions in performance-critical operations:  AVX2 FMA\n",
      "To enable them in other operations, rebuild TensorFlow with the appropriate compiler flags.\n"
     ]
    },
    {
     "name": "stdout",
     "output_type": "stream",
     "text": [
      "vgg_face_weights.h5 will be downloaded...\n"
     ]
    },
    {
     "name": "stderr",
     "output_type": "stream",
     "text": [
      "Downloading...\n",
      "From: https://github.com/serengil/deepface_models/releases/download/v1.0/vgg_face_weights.h5\n",
      "To: /home/ujjawal/.deepface/weights/vgg_face_weights.h5\n",
      "100%|███████████████████████████████████████████████████████████████████████████████████████████████████████████████████████| 580M/580M [03:51<00:00, 2.51MB/s]\n"
     ]
    }
   ],
   "source": [
    "result = DeepFace.verify(img1_path = \"/home/ujjawal/Downloads/data/train/jerry_seinfeld/jerry1.jpg\", img2_path = \"/home/ujjawal/Downloads/data/train/jerry_seinfeld/jerry2.jpg\")"
   ]
  },
  {
   "cell_type": "code",
   "execution_count": 4,
   "id": "ce05fffd",
   "metadata": {},
   "outputs": [
    {
     "data": {
      "text/plain": [
       "{'verified': True,\n",
       " 'distance': 0.1674483460363343,\n",
       " 'threshold': 0.4,\n",
       " 'model': 'VGG-Face',\n",
       " 'detector_backend': 'opencv',\n",
       " 'similarity_metric': 'cosine',\n",
       " 'facial_areas': {'img1': {'x': 37, 'y': 31, 'w': 101, 'h': 101},\n",
       "  'img2': {'x': 47, 'y': 54, 'w': 112, 'h': 112}},\n",
       " 'time': 234.15}"
      ]
     },
     "execution_count": 4,
     "metadata": {},
     "output_type": "execute_result"
    }
   ],
   "source": [
    "result"
   ]
  },
  {
   "cell_type": "code",
   "execution_count": 5,
   "id": "335b6494",
   "metadata": {},
   "outputs": [],
   "source": [
    "models = [\n",
    "  \"VGG-Face\", \n",
    "  \"Facenet\", \n",
    "  \"Facenet512\", \n",
    "  \"OpenFace\", \n",
    "  \"DeepFace\", \n",
    "  \"DeepID\", \n",
    "  \"ArcFace\", \n",
    "  \"Dlib\", \n",
    "  \"SFace\",\n",
    "]"
   ]
  },
  {
   "cell_type": "code",
   "execution_count": 7,
   "id": "10ce24ec",
   "metadata": {},
   "outputs": [],
   "source": [
    "final = []"
   ]
  },
  {
   "cell_type": "code",
   "execution_count": 8,
   "id": "41f69de5",
   "metadata": {},
   "outputs": [],
   "source": [
    "final.append(result)"
   ]
  },
  {
   "cell_type": "code",
   "execution_count": 9,
   "id": "dd40922e",
   "metadata": {},
   "outputs": [],
   "source": [
    "facenet = DeepFace.verify(img1_path = \"/home/ujjawal/Downloads/data/train/jerry_seinfeld/jerry1.jpg\", img2_path = \"/home/ujjawal/Downloads/data/train/jerry_seinfeld/jerry2.jpg\", model_name=models[1])"
   ]
  },
  {
   "cell_type": "code",
   "execution_count": 10,
   "id": "f76b1ea9",
   "metadata": {},
   "outputs": [],
   "source": [
    "final.append(facenet)"
   ]
  },
  {
   "cell_type": "code",
   "execution_count": 12,
   "id": "0de0018e",
   "metadata": {},
   "outputs": [
    {
     "name": "stdout",
     "output_type": "stream",
     "text": [
      "facenet512_weights.h5 will be downloaded...\n"
     ]
    },
    {
     "name": "stderr",
     "output_type": "stream",
     "text": [
      "Downloading...\n",
      "From: https://github.com/serengil/deepface_models/releases/download/v1.0/facenet512_weights.h5\n",
      "To: /home/ujjawal/.deepface/weights/facenet512_weights.h5\n",
      "100%|█████████████████████████████████████████████████████████████████████████████████████████████████████████████████████| 95.0M/95.0M [00:37<00:00, 2.53MB/s]\n"
     ]
    }
   ],
   "source": [
    "facenet512 = DeepFace.verify(img1_path = \"/home/ujjawal/Downloads/data/train/jerry_seinfeld/jerry1.jpg\", img2_path = \"/home/ujjawal/Downloads/data/train/jerry_seinfeld/jerry2.jpg\", model_name=models[2])"
   ]
  },
  {
   "cell_type": "code",
   "execution_count": 13,
   "id": "95ef3ac7",
   "metadata": {},
   "outputs": [],
   "source": [
    "final.append(facenet512)"
   ]
  },
  {
   "cell_type": "code",
   "execution_count": 14,
   "id": "181b548e",
   "metadata": {},
   "outputs": [
    {
     "name": "stdout",
     "output_type": "stream",
     "text": [
      "openface_weights.h5 will be downloaded...\n"
     ]
    },
    {
     "name": "stderr",
     "output_type": "stream",
     "text": [
      "Downloading...\n",
      "From: https://github.com/serengil/deepface_models/releases/download/v1.0/openface_weights.h5\n",
      "To: /home/ujjawal/.deepface/weights/openface_weights.h5\n",
      "100%|█████████████████████████████████████████████████████████████████████████████████████████████████████████████████████| 15.3M/15.3M [00:06<00:00, 2.53MB/s]\n"
     ]
    }
   ],
   "source": [
    "openface = DeepFace.verify(img1_path = \"/home/ujjawal/Downloads/data/train/jerry_seinfeld/jerry1.jpg\", img2_path = \"/home/ujjawal/Downloads/data/train/jerry_seinfeld/jerry2.jpg\", model_name=models[3])"
   ]
  },
  {
   "cell_type": "code",
   "execution_count": 15,
   "id": "72e86834",
   "metadata": {},
   "outputs": [],
   "source": [
    "final.append(openface)"
   ]
  },
  {
   "cell_type": "code",
   "execution_count": 16,
   "id": "6e0bf3f5",
   "metadata": {},
   "outputs": [
    {
     "name": "stdout",
     "output_type": "stream",
     "text": [
      "VGGFace2_DeepFace_weights_val-0.9034.h5 will be downloaded...\n"
     ]
    },
    {
     "name": "stderr",
     "output_type": "stream",
     "text": [
      "Downloading...\n",
      "From: https://github.com/swghosh/DeepFace/releases/download/weights-vggface2-2d-aligned/VGGFace2_DeepFace_weights_val-0.9034.h5.zip\n",
      "To: /home/ujjawal/.deepface/weights/VGGFace2_DeepFace_weights_val-0.9034.h5.zip\n",
      "100%|███████████████████████████████████████████████████████████████████████████████████████████████████████████████████████| 511M/511M [03:26<00:00, 2.48MB/s]\n"
     ]
    }
   ],
   "source": [
    "deepface = DeepFace.verify(img1_path = \"/home/ujjawal/Downloads/data/train/jerry_seinfeld/jerry1.jpg\", img2_path = \"/home/ujjawal/Downloads/data/train/jerry_seinfeld/jerry2.jpg\", model_name=models[4])"
   ]
  },
  {
   "cell_type": "code",
   "execution_count": 17,
   "id": "bfda4e73",
   "metadata": {},
   "outputs": [],
   "source": [
    "final.append(deepface)"
   ]
  },
  {
   "cell_type": "code",
   "execution_count": 18,
   "id": "7c92126a",
   "metadata": {},
   "outputs": [
    {
     "data": {
      "text/plain": [
       "[{'verified': True,\n",
       "  'distance': 0.15496689978874734,\n",
       "  'threshold': 0.4,\n",
       "  'model': 'Facenet',\n",
       "  'detector_backend': 'opencv',\n",
       "  'similarity_metric': 'cosine',\n",
       "  'facial_areas': {'img1': {'x': 37, 'y': 31, 'w': 101, 'h': 101},\n",
       "   'img2': {'x': 47, 'y': 54, 'w': 112, 'h': 112}},\n",
       "  'time': 41.45},\n",
       " {'verified': True,\n",
       "  'distance': 0.15496689978874734,\n",
       "  'threshold': 0.4,\n",
       "  'model': 'Facenet',\n",
       "  'detector_backend': 'opencv',\n",
       "  'similarity_metric': 'cosine',\n",
       "  'facial_areas': {'img1': {'x': 37, 'y': 31, 'w': 101, 'h': 101},\n",
       "   'img2': {'x': 47, 'y': 54, 'w': 112, 'h': 112}},\n",
       "  'time': 0.15},\n",
       " {'verified': True,\n",
       "  'distance': 0.22792544960035943,\n",
       "  'threshold': 0.3,\n",
       "  'model': 'Facenet512',\n",
       "  'detector_backend': 'opencv',\n",
       "  'similarity_metric': 'cosine',\n",
       "  'facial_areas': {'img1': {'x': 37, 'y': 31, 'w': 101, 'h': 101},\n",
       "   'img2': {'x': 47, 'y': 54, 'w': 112, 'h': 112}},\n",
       "  'time': 41.17},\n",
       " {'verified': False,\n",
       "  'distance': 0.1088914792441732,\n",
       "  'threshold': 0.1,\n",
       "  'model': 'OpenFace',\n",
       "  'detector_backend': 'opencv',\n",
       "  'similarity_metric': 'cosine',\n",
       "  'facial_areas': {'img1': {'x': 37, 'y': 31, 'w': 101, 'h': 101},\n",
       "   'img2': {'x': 47, 'y': 54, 'w': 112, 'h': 112}},\n",
       "  'time': 13.48},\n",
       " {'verified': True,\n",
       "  'distance': 0.11513541301927499,\n",
       "  'threshold': 0.23,\n",
       "  'model': 'DeepFace',\n",
       "  'detector_backend': 'opencv',\n",
       "  'similarity_metric': 'cosine',\n",
       "  'facial_areas': {'img1': {'x': 37, 'y': 31, 'w': 101, 'h': 101},\n",
       "   'img2': {'x': 47, 'y': 54, 'w': 112, 'h': 112}},\n",
       "  'time': 232.03}]"
      ]
     },
     "execution_count": 18,
     "metadata": {},
     "output_type": "execute_result"
    }
   ],
   "source": [
    "final"
   ]
  },
  {
   "cell_type": "code",
   "execution_count": 22,
   "id": "de08d14a",
   "metadata": {},
   "outputs": [
    {
     "name": "stdout",
     "output_type": "stream",
     "text": [
      "FaceNet:  {'verified': True, 'distance': 0.15496689978874734, 'threshold': 0.4, 'model': 'Facenet', 'detector_backend': 'opencv', 'similarity_metric': 'cosine', 'facial_areas': {'img1': {'x': 37, 'y': 31, 'w': 101, 'h': 101}, 'img2': {'x': 47, 'y': 54, 'w': 112, 'h': 112}}, 'time': 0.15}\n"
     ]
    }
   ],
   "source": [
    "print(\"FaceNet: \", final[1])"
   ]
  },
  {
   "cell_type": "code",
   "execution_count": 23,
   "id": "d2cff5e8",
   "metadata": {},
   "outputs": [
    {
     "name": "stdout",
     "output_type": "stream",
     "text": [
      "FaceNet512:  {'verified': True, 'distance': 0.22792544960035943, 'threshold': 0.3, 'model': 'Facenet512', 'detector_backend': 'opencv', 'similarity_metric': 'cosine', 'facial_areas': {'img1': {'x': 37, 'y': 31, 'w': 101, 'h': 101}, 'img2': {'x': 47, 'y': 54, 'w': 112, 'h': 112}}, 'time': 41.17}\n"
     ]
    }
   ],
   "source": [
    "print(\"FaceNet512: \", final[2])"
   ]
  },
  {
   "cell_type": "code",
   "execution_count": 24,
   "id": "b63bacf0",
   "metadata": {},
   "outputs": [
    {
     "name": "stdout",
     "output_type": "stream",
     "text": [
      "OpenFace:  {'verified': False, 'distance': 0.1088914792441732, 'threshold': 0.1, 'model': 'OpenFace', 'detector_backend': 'opencv', 'similarity_metric': 'cosine', 'facial_areas': {'img1': {'x': 37, 'y': 31, 'w': 101, 'h': 101}, 'img2': {'x': 47, 'y': 54, 'w': 112, 'h': 112}}, 'time': 13.48}\n"
     ]
    }
   ],
   "source": [
    "print(\"OpenFace: \", final[3])"
   ]
  },
  {
   "cell_type": "code",
   "execution_count": 25,
   "id": "71320d1a",
   "metadata": {},
   "outputs": [
    {
     "name": "stdout",
     "output_type": "stream",
     "text": [
      "DeepFace:  {'verified': True, 'distance': 0.11513541301927499, 'threshold': 0.23, 'model': 'DeepFace', 'detector_backend': 'opencv', 'similarity_metric': 'cosine', 'facial_areas': {'img1': {'x': 37, 'y': 31, 'w': 101, 'h': 101}, 'img2': {'x': 47, 'y': 54, 'w': 112, 'h': 112}}, 'time': 232.03}\n"
     ]
    }
   ],
   "source": [
    "print(\"DeepFace: \", final[4])"
   ]
  },
  {
   "cell_type": "code",
   "execution_count": 26,
   "id": "59ea0f81",
   "metadata": {},
   "outputs": [
    {
     "data": {
      "text/plain": [
       "0.15496689978874734"
      ]
     },
     "execution_count": 26,
     "metadata": {},
     "output_type": "execute_result"
    }
   ],
   "source": [
    "final[0]['distance']"
   ]
  },
  {
   "cell_type": "code",
   "execution_count": 29,
   "id": "41b786a4",
   "metadata": {},
   "outputs": [
    {
     "data": {
      "text/plain": [
       "list"
      ]
     },
     "execution_count": 29,
     "metadata": {},
     "output_type": "execute_result"
    }
   ],
   "source": [
    "type(final)"
   ]
  },
  {
   "cell_type": "code",
   "execution_count": 30,
   "id": "4a0178e1",
   "metadata": {},
   "outputs": [],
   "source": [
    "max_distance = max(final, key=lambda x: x['distance'])['distance']"
   ]
  },
  {
   "cell_type": "code",
   "execution_count": 31,
   "id": "8dc9fe78",
   "metadata": {},
   "outputs": [
    {
     "data": {
      "text/plain": [
       "0.22792544960035943"
      ]
     },
     "execution_count": 31,
     "metadata": {},
     "output_type": "execute_result"
    }
   ],
   "source": [
    "max_distance"
   ]
  },
  {
   "cell_type": "code",
   "execution_count": 39,
   "id": "a48ebd17",
   "metadata": {},
   "outputs": [
    {
     "name": "stdout",
     "output_type": "stream",
     "text": [
      "WARNING: Representations for images in /home/ujjawal/Downloads/data/train/ folder were previously stored in representations_vgg_face.pkl. If you added new instances after the creation, then please delete this file and call find function again. It will create it again.\n",
      "There are  22  representations found in  representations_vgg_face.pkl\n",
      "find function lasts  0.18942523002624512  seconds\n"
     ]
    }
   ],
   "source": [
    "dfs = DeepFace.find(img_path = \"/home/ujjawal/Downloads/data/train/madonna/madona.jpg\", db_path = \"/home/ujjawal/Downloads/data/train/\")"
   ]
  },
  {
   "cell_type": "code",
   "execution_count": 40,
   "id": "b0227dd3",
   "metadata": {},
   "outputs": [
    {
     "data": {
      "text/plain": [
       "[Empty DataFrame\n",
       " Columns: [identity, source_x, source_y, source_w, source_h, VGG-Face_cosine]\n",
       " Index: []]"
      ]
     },
     "execution_count": 40,
     "metadata": {},
     "output_type": "execute_result"
    }
   ],
   "source": [
    "dfs"
   ]
  },
  {
   "cell_type": "code",
   "execution_count": null,
   "id": "dbfc9083",
   "metadata": {},
   "outputs": [],
   "source": [
    "dfs = DeepFace.find(img_path = \"/home/ujjawal/Downloads/data/train/madonna/madona.jpg\", db_path = \"/home/ujjawal/Downloads/data/train/\")"
   ]
  },
  {
   "cell_type": "code",
   "execution_count": 7,
   "id": "a73027d0",
   "metadata": {},
   "outputs": [
    {
     "data": {
      "application/vnd.jupyter.widget-view+json": {
       "model_id": "d33b0e3921f64b169d6e6173b76f97a2",
       "version_major": 2,
       "version_minor": 0
      },
      "text/plain": [
       "Button(description='Select Image', style=ButtonStyle())"
      ]
     },
     "metadata": {},
     "output_type": "display_data"
    },
    {
     "data": {
      "application/vnd.jupyter.widget-view+json": {
       "model_id": "0c195834b73b474995c2e25d5e52d690",
       "version_major": 2,
       "version_minor": 0
      },
      "text/plain": [
       "FileUpload(value=(), description='Upload')"
      ]
     },
     "metadata": {},
     "output_type": "display_data"
    }
   ],
   "source": [
    "import ipywidgets as widgets\n",
    "from IPython.display import display\n",
    "from PIL import Image\n",
    "import io\n",
    "\n",
    "selected_image = [None]  # Use a list as a mutable container\n",
    "\n",
    "def on_button_clicked(b):\n",
    "    file_upload = widgets.FileUpload()\n",
    "    display(file_upload)\n",
    "\n",
    "    def get_image_content(change):\n",
    "        uploaded_filename = next(iter(file_upload.value))\n",
    "        content = file_upload.value[uploaded_filename]['content']\n",
    "        selected_image[0] = Image.open(io.BytesIO(content))\n",
    "        display(selected_image[0])\n",
    "\n",
    "    file_upload.observe(get_image_content, names='_counter')\n",
    "\n",
    "button = widgets.Button(description=\"Select Image\")\n",
    "button.on_click(on_button_clicked)\n",
    "display(button)\n"
   ]
  },
  {
   "cell_type": "code",
   "execution_count": 11,
   "id": "4863f853",
   "metadata": {},
   "outputs": [],
   "source": [
    "db_path = \"/home/ujjawal/Downloads/data/\""
   ]
  },
  {
   "cell_type": "code",
   "execution_count": 16,
   "id": "1fa05399",
   "metadata": {},
   "outputs": [
    {
     "name": "stderr",
     "output_type": "stream",
     "text": [
      "Finding representations:   0%|                                                                                                          | 0/91 [00:00<?, ?it/s]\n"
     ]
    },
    {
     "ename": "ValueError",
     "evalue": "Face could not be detected. Please confirm that the picture is a face photo or consider to set enforce_detection param to False.",
     "output_type": "error",
     "traceback": [
      "\u001b[0;31m---------------------------------------------------------------------------\u001b[0m",
      "\u001b[0;31mValueError\u001b[0m                                Traceback (most recent call last)",
      "\u001b[0;32m/tmp/ipykernel_6092/1222530191.py\u001b[0m in \u001b[0;36m<module>\u001b[0;34m\u001b[0m\n\u001b[0;32m----> 1\u001b[0;31m \u001b[0mfaced\u001b[0m \u001b[0;34m=\u001b[0m \u001b[0mDeepFace\u001b[0m\u001b[0;34m.\u001b[0m\u001b[0mfind\u001b[0m\u001b[0;34m(\u001b[0m\u001b[0mimg_path\u001b[0m \u001b[0;34m=\u001b[0m \u001b[0;34m\"/home/ujjawal/Downloads/data/jerry1.jpg\"\u001b[0m\u001b[0;34m,\u001b[0m \u001b[0mdb_path\u001b[0m\u001b[0;34m=\u001b[0m\u001b[0;34m\"/home/ujjawal/Downloads/data/\"\u001b[0m\u001b[0;34m)\u001b[0m\u001b[0;34m\u001b[0m\u001b[0m\n\u001b[0m",
      "\u001b[0;32m~/miniconda3/envs/deep/lib/python3.7/site-packages/deepface/DeepFace.py\u001b[0m in \u001b[0;36mfind\u001b[0;34m(img_path, db_path, model_name, distance_metric, enforce_detection, detector_backend, align, normalization, silent)\u001b[0m\n\u001b[1;32m    492\u001b[0m                 \u001b[0mgrayscale\u001b[0m\u001b[0;34m=\u001b[0m\u001b[0;32mFalse\u001b[0m\u001b[0;34m,\u001b[0m\u001b[0;34m\u001b[0m\u001b[0m\n\u001b[1;32m    493\u001b[0m                 \u001b[0menforce_detection\u001b[0m\u001b[0;34m=\u001b[0m\u001b[0menforce_detection\u001b[0m\u001b[0;34m,\u001b[0m\u001b[0;34m\u001b[0m\u001b[0m\n\u001b[0;32m--> 494\u001b[0;31m                 \u001b[0malign\u001b[0m\u001b[0;34m=\u001b[0m\u001b[0malign\u001b[0m\u001b[0;34m,\u001b[0m\u001b[0;34m\u001b[0m\u001b[0m\n\u001b[0m\u001b[1;32m    495\u001b[0m             )\n\u001b[1;32m    496\u001b[0m \u001b[0;34m\u001b[0m\u001b[0m\n",
      "\u001b[0;32m~/miniconda3/envs/deep/lib/python3.7/site-packages/deepface/commons/functions.py\u001b[0m in \u001b[0;36mextract_faces\u001b[0;34m(img, target_size, detector_backend, grayscale, enforce_detection, align)\u001b[0m\n\u001b[1;32m    114\u001b[0m     \u001b[0;32mif\u001b[0m \u001b[0mlen\u001b[0m\u001b[0;34m(\u001b[0m\u001b[0mface_objs\u001b[0m\u001b[0;34m)\u001b[0m \u001b[0;34m==\u001b[0m \u001b[0;36m0\u001b[0m \u001b[0;32mand\u001b[0m \u001b[0menforce_detection\u001b[0m \u001b[0;32mis\u001b[0m \u001b[0;32mTrue\u001b[0m\u001b[0;34m:\u001b[0m\u001b[0;34m\u001b[0m\u001b[0m\n\u001b[1;32m    115\u001b[0m         raise ValueError(\n\u001b[0;32m--> 116\u001b[0;31m             \u001b[0;34m\"Face could not be detected. Please confirm that the picture is a face photo \"\u001b[0m\u001b[0;34m\u001b[0m\u001b[0m\n\u001b[0m\u001b[1;32m    117\u001b[0m             \u001b[0;34m+\u001b[0m \u001b[0;34m\"or consider to set enforce_detection param to False.\"\u001b[0m\u001b[0;34m\u001b[0m\u001b[0m\n\u001b[1;32m    118\u001b[0m         )\n",
      "\u001b[0;31mValueError\u001b[0m: Face could not be detected. Please confirm that the picture is a face photo or consider to set enforce_detection param to False."
     ]
    }
   ],
   "source": [
    "faced = DeepFace.find(img_path = \"/home/ujjawal/Downloads/data/jerry1.jpg\", db_path=\"/home/ujjawal/Downloads/data/\")"
   ]
  },
  {
   "cell_type": "code",
   "execution_count": 9,
   "id": "af5000e9",
   "metadata": {},
   "outputs": [
    {
     "name": "stdout",
     "output_type": "stream",
     "text": [
      "WARNING: Representations for images in /home/ujjawal/Downloads/data/train/ folder were previously stored in representations_vgg_face.pkl. If you added new instances after the creation, then please delete this file and call find function again. It will create it again.\n",
      "There are  22  representations found in  representations_vgg_face.pkl\n"
     ]
    },
    {
     "ename": "AttributeError",
     "evalue": "'list' object has no attribute 'startswith'",
     "output_type": "error",
     "traceback": [
      "\u001b[0;31m---------------------------------------------------------------------------\u001b[0m",
      "\u001b[0;31mAttributeError\u001b[0m                            Traceback (most recent call last)",
      "\u001b[0;32m/tmp/ipykernel_6092/755266123.py\u001b[0m in \u001b[0;36m<module>\u001b[0;34m\u001b[0m\n\u001b[0;32m----> 1\u001b[0;31m \u001b[0mface\u001b[0m \u001b[0;34m=\u001b[0m \u001b[0mDeepFace\u001b[0m\u001b[0;34m.\u001b[0m\u001b[0mfind\u001b[0m\u001b[0;34m(\u001b[0m\u001b[0mimg_path\u001b[0m \u001b[0;34m=\u001b[0m \u001b[0mselected_image\u001b[0m\u001b[0;34m,\u001b[0m \u001b[0mdb_path\u001b[0m\u001b[0;34m=\u001b[0m\u001b[0mdb_path\u001b[0m\u001b[0;34m)\u001b[0m\u001b[0;34m\u001b[0m\u001b[0m\n\u001b[0m",
      "\u001b[0;32m~/miniconda3/envs/deep/lib/python3.7/site-packages/deepface/DeepFace.py\u001b[0m in \u001b[0;36mfind\u001b[0;34m(img_path, db_path, model_name, distance_metric, enforce_detection, detector_backend, align, normalization, silent)\u001b[0m\n\u001b[1;32m    534\u001b[0m         \u001b[0mgrayscale\u001b[0m\u001b[0;34m=\u001b[0m\u001b[0;32mFalse\u001b[0m\u001b[0;34m,\u001b[0m\u001b[0;34m\u001b[0m\u001b[0m\n\u001b[1;32m    535\u001b[0m         \u001b[0menforce_detection\u001b[0m\u001b[0;34m=\u001b[0m\u001b[0menforce_detection\u001b[0m\u001b[0;34m,\u001b[0m\u001b[0;34m\u001b[0m\u001b[0m\n\u001b[0;32m--> 536\u001b[0;31m         \u001b[0malign\u001b[0m\u001b[0;34m=\u001b[0m\u001b[0malign\u001b[0m\u001b[0;34m,\u001b[0m\u001b[0;34m\u001b[0m\u001b[0m\n\u001b[0m\u001b[1;32m    537\u001b[0m     )\n\u001b[1;32m    538\u001b[0m \u001b[0;34m\u001b[0m\u001b[0m\n",
      "\u001b[0;32m~/miniconda3/envs/deep/lib/python3.7/site-packages/deepface/commons/functions.py\u001b[0m in \u001b[0;36mextract_faces\u001b[0;34m(img, target_size, detector_backend, grayscale, enforce_detection, align)\u001b[0m\n\u001b[1;32m    102\u001b[0m \u001b[0;34m\u001b[0m\u001b[0m\n\u001b[1;32m    103\u001b[0m     \u001b[0;31m# img might be path, base64 or numpy array. Convert it to numpy whatever it is.\u001b[0m\u001b[0;34m\u001b[0m\u001b[0;34m\u001b[0m\u001b[0m\n\u001b[0;32m--> 104\u001b[0;31m     \u001b[0mimg\u001b[0m \u001b[0;34m=\u001b[0m \u001b[0mload_image\u001b[0m\u001b[0;34m(\u001b[0m\u001b[0mimg\u001b[0m\u001b[0;34m)\u001b[0m\u001b[0;34m\u001b[0m\u001b[0m\n\u001b[0m\u001b[1;32m    105\u001b[0m     \u001b[0mimg_region\u001b[0m \u001b[0;34m=\u001b[0m \u001b[0;34m[\u001b[0m\u001b[0;36m0\u001b[0m\u001b[0;34m,\u001b[0m \u001b[0;36m0\u001b[0m\u001b[0;34m,\u001b[0m \u001b[0mimg\u001b[0m\u001b[0;34m.\u001b[0m\u001b[0mshape\u001b[0m\u001b[0;34m[\u001b[0m\u001b[0;36m1\u001b[0m\u001b[0;34m]\u001b[0m\u001b[0;34m,\u001b[0m \u001b[0mimg\u001b[0m\u001b[0;34m.\u001b[0m\u001b[0mshape\u001b[0m\u001b[0;34m[\u001b[0m\u001b[0;36m0\u001b[0m\u001b[0;34m]\u001b[0m\u001b[0;34m]\u001b[0m\u001b[0;34m\u001b[0m\u001b[0m\n\u001b[1;32m    106\u001b[0m \u001b[0;34m\u001b[0m\u001b[0m\n",
      "\u001b[0;32m~/miniconda3/envs/deep/lib/python3.7/site-packages/deepface/commons/functions.py\u001b[0m in \u001b[0;36mload_image\u001b[0;34m(img)\u001b[0m\n\u001b[1;32m     63\u001b[0m         \u001b[0mexact_image\u001b[0m \u001b[0;34m=\u001b[0m \u001b[0;32mTrue\u001b[0m\u001b[0;34m\u001b[0m\u001b[0m\n\u001b[1;32m     64\u001b[0m \u001b[0;34m\u001b[0m\u001b[0m\n\u001b[0;32m---> 65\u001b[0;31m     \u001b[0;32melif\u001b[0m \u001b[0mimg\u001b[0m\u001b[0;34m.\u001b[0m\u001b[0mstartswith\u001b[0m\u001b[0;34m(\u001b[0m\u001b[0;34m\"data:image/\"\u001b[0m\u001b[0;34m)\u001b[0m\u001b[0;34m:\u001b[0m\u001b[0;34m\u001b[0m\u001b[0m\n\u001b[0m\u001b[1;32m     66\u001b[0m         \u001b[0mbase64_img\u001b[0m \u001b[0;34m=\u001b[0m \u001b[0;32mTrue\u001b[0m\u001b[0;34m\u001b[0m\u001b[0m\n\u001b[1;32m     67\u001b[0m \u001b[0;34m\u001b[0m\u001b[0m\n",
      "\u001b[0;31mAttributeError\u001b[0m: 'list' object has no attribute 'startswith'"
     ]
    }
   ],
   "source": [
    "face = DeepFace.find(img_path = selected_image, db_path=db_path)"
   ]
  },
  {
   "cell_type": "code",
   "execution_count": 17,
   "id": "3ad0d3cc",
   "metadata": {},
   "outputs": [
    {
     "ename": "NameError",
     "evalue": "name 'all_cos' is not defined",
     "output_type": "error",
     "traceback": [
      "\u001b[0;31m---------------------------------------------------------------------------\u001b[0m",
      "\u001b[0;31mNameError\u001b[0m                                 Traceback (most recent call last)",
      "\u001b[0;32m/tmp/ipykernel_6092/1707214358.py\u001b[0m in \u001b[0;36m<module>\u001b[0;34m\u001b[0m\n\u001b[0;32m----> 1\u001b[0;31m \u001b[0mall_list\u001b[0m \u001b[0;34m=\u001b[0m \u001b[0mall_cos\u001b[0m\u001b[0;34m.\u001b[0m\u001b[0mtolist\u001b[0m\u001b[0;34m(\u001b[0m\u001b[0;34m)\u001b[0m\u001b[0;34m\u001b[0m\u001b[0m\n\u001b[0m",
      "\u001b[0;31mNameError\u001b[0m: name 'all_cos' is not defined"
     ]
    }
   ],
   "source": [
    "all_list = all_cos.tolist()"
   ]
  },
  {
   "cell_type": "code",
   "execution_count": null,
   "id": "22f49d9a",
   "metadata": {},
   "outputs": [],
   "source": []
  }
 ],
 "metadata": {
  "kernelspec": {
   "display_name": "deep",
   "language": "python",
   "name": "deep"
  },
  "language_info": {
   "codemirror_mode": {
    "name": "ipython",
    "version": 3
   },
   "file_extension": ".py",
   "mimetype": "text/x-python",
   "name": "python",
   "nbconvert_exporter": "python",
   "pygments_lexer": "ipython3",
   "version": "3.7.0"
  }
 },
 "nbformat": 4,
 "nbformat_minor": 5
}
