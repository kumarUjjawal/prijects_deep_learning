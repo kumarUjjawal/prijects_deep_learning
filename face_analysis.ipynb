{
 "cells": [
  {
   "cell_type": "markdown",
   "id": "ff094121",
   "metadata": {},
   "source": [
    "# Analyzing facial attributes including age, gender, emotion and race."
   ]
  },
  {
   "cell_type": "code",
   "execution_count": 2,
   "id": "8d4e8b1b",
   "metadata": {},
   "outputs": [],
   "source": [
    "import warnings\n",
    "warnings.filterwarnings(\"ignore\")"
   ]
  },
  {
   "cell_type": "code",
   "execution_count": 1,
   "id": "d698ab94",
   "metadata": {},
   "outputs": [
    {
     "name": "stderr",
     "output_type": "stream",
     "text": [
      "2023-06-20 10:54:23.825531: W tensorflow/stream_executor/platform/default/dso_loader.cc:64] Could not load dynamic library 'libcudart.so.11.0'; dlerror: libcudart.so.11.0: cannot open shared object file: No such file or directory; LD_LIBRARY_PATH: /home/ujjawal/miniconda3/envs/deep/lib/python3.7/site-packages/cv2/../../lib64:\n",
      "2023-06-20 10:54:23.825552: I tensorflow/stream_executor/cuda/cudart_stub.cc:29] Ignore above cudart dlerror if you do not have a GPU set up on your machine.\n"
     ]
    }
   ],
   "source": [
    "from deepface import DeepFace"
   ]
  },
  {
   "cell_type": "code",
   "execution_count": 3,
   "id": "723e044d",
   "metadata": {
    "scrolled": true
   },
   "outputs": [
    {
     "name": "stderr",
     "output_type": "stream",
     "text": [
      "2023-06-20 10:56:46.158800: I tensorflow/stream_executor/cuda/cuda_gpu_executor.cc:939] successful NUMA node read from SysFS had negative value (-1), but there must be at least one NUMA node, so returning NUMA node zero\n",
      "2023-06-20 10:56:46.158970: W tensorflow/stream_executor/platform/default/dso_loader.cc:64] Could not load dynamic library 'libcudart.so.11.0'; dlerror: libcudart.so.11.0: cannot open shared object file: No such file or directory; LD_LIBRARY_PATH: /home/ujjawal/miniconda3/envs/deep/lib/python3.7/site-packages/cv2/../../lib64:\n",
      "2023-06-20 10:56:46.159025: W tensorflow/stream_executor/platform/default/dso_loader.cc:64] Could not load dynamic library 'libcublas.so.11'; dlerror: libcublas.so.11: cannot open shared object file: No such file or directory; LD_LIBRARY_PATH: /home/ujjawal/miniconda3/envs/deep/lib/python3.7/site-packages/cv2/../../lib64:\n",
      "2023-06-20 10:56:46.159068: W tensorflow/stream_executor/platform/default/dso_loader.cc:64] Could not load dynamic library 'libcublasLt.so.11'; dlerror: libcublasLt.so.11: cannot open shared object file: No such file or directory; LD_LIBRARY_PATH: /home/ujjawal/miniconda3/envs/deep/lib/python3.7/site-packages/cv2/../../lib64:\n",
      "2023-06-20 10:56:46.159111: W tensorflow/stream_executor/platform/default/dso_loader.cc:64] Could not load dynamic library 'libcufft.so.10'; dlerror: libcufft.so.10: cannot open shared object file: No such file or directory; LD_LIBRARY_PATH: /home/ujjawal/miniconda3/envs/deep/lib/python3.7/site-packages/cv2/../../lib64:\n",
      "2023-06-20 10:56:46.250024: W tensorflow/stream_executor/platform/default/dso_loader.cc:64] Could not load dynamic library 'libcusparse.so.11'; dlerror: libcusparse.so.11: cannot open shared object file: No such file or directory; LD_LIBRARY_PATH: /home/ujjawal/miniconda3/envs/deep/lib/python3.7/site-packages/cv2/../../lib64:\n",
      "2023-06-20 10:56:46.250138: W tensorflow/stream_executor/platform/default/dso_loader.cc:64] Could not load dynamic library 'libcudnn.so.8'; dlerror: libcudnn.so.8: cannot open shared object file: No such file or directory; LD_LIBRARY_PATH: /home/ujjawal/miniconda3/envs/deep/lib/python3.7/site-packages/cv2/../../lib64:\n",
      "2023-06-20 10:56:46.250150: W tensorflow/core/common_runtime/gpu/gpu_device.cc:1850] Cannot dlopen some GPU libraries. Please make sure the missing libraries mentioned above are installed properly if you would like to use GPU. Follow the guide at https://www.tensorflow.org/install/gpu for how to download and setup the required libraries for your platform.\n",
      "Skipping registering GPU devices...\n",
      "2023-06-20 10:56:46.250434: I tensorflow/core/platform/cpu_feature_guard.cc:151] This TensorFlow binary is optimized with oneAPI Deep Neural Network Library (oneDNN) to use the following CPU instructions in performance-critical operations:  AVX2 FMA\n",
      "To enable them in other operations, rebuild TensorFlow with the appropriate compiler flags.\n"
     ]
    },
    {
     "name": "stdout",
     "output_type": "stream",
     "text": [
      "facial_expression_model_weights.h5 will be downloaded...\n"
     ]
    },
    {
     "name": "stderr",
     "output_type": "stream",
     "text": [
      "Downloading...\n",
      "From: https://github.com/serengil/deepface_models/releases/download/v1.0/facial_expression_model_weights.h5\n",
      "To: /home/ujjawal/.deepface/weights/facial_expression_model_weights.h5\n",
      "100%|█████████████████████████████████████████████████████████████████████████████████████████████████████████████████████| 5.98M/5.98M [00:02<00:00, 2.40MB/s]\n"
     ]
    },
    {
     "name": "stdout",
     "output_type": "stream",
     "text": [
      "age_model_weights.h5 will be downloaded...\n"
     ]
    },
    {
     "name": "stderr",
     "output_type": "stream",
     "text": [
      "Downloading...\n",
      "From: https://github.com/serengil/deepface_models/releases/download/v1.0/age_model_weights.h5\n",
      "To: /home/ujjawal/.deepface/weights/age_model_weights.h5\n",
      "100%|███████████████████████████████████████████████████████████████████████████████████████████████████████████████████████| 539M/539M [04:45<00:00, 1.89MB/s]\n"
     ]
    },
    {
     "name": "stdout",
     "output_type": "stream",
     "text": [
      "gender_model_weights.h5 will be downloaded...\n"
     ]
    },
    {
     "name": "stderr",
     "output_type": "stream",
     "text": [
      "Downloading...\n",
      "From: https://github.com/serengil/deepface_models/releases/download/v1.0/gender_model_weights.h5\n",
      "To: /home/ujjawal/.deepface/weights/gender_model_weights.h5\n",
      "100%|███████████████████████████████████████████████████████████████████████████████████████████████████████████████████████| 537M/537M [03:46<00:00, 2.38MB/s]\n"
     ]
    },
    {
     "name": "stdout",
     "output_type": "stream",
     "text": [
      "race_model_single_batch.h5 will be downloaded...\n"
     ]
    },
    {
     "name": "stderr",
     "output_type": "stream",
     "text": [
      "Downloading...\n",
      "From: https://github.com/serengil/deepface_models/releases/download/v1.0/race_model_single_batch.h5\n",
      "To: /home/ujjawal/.deepface/weights/race_model_single_batch.h5\n",
      "100%|███████████████████████████████████████████████████████████████████████████████████████████████████████████████████████| 537M/537M [04:18<00:00, 2.08MB/s]\n",
      "Action: emotion: 100%|███████████████████████████████████████████████████████████████████████████████████████████████████████████| 4/4 [00:00<00:00,  4.91it/s]\n"
     ]
    }
   ],
   "source": [
    "face = DeepFace.analyze(img_path = 'ujjawal.jpg', actions = ['age', 'gender', 'race', 'emotion'])"
   ]
  },
  {
   "cell_type": "code",
   "execution_count": 4,
   "id": "f6031570",
   "metadata": {},
   "outputs": [
    {
     "data": {
      "text/plain": [
       "[{'age': 29,\n",
       "  'region': {'x': 734, 'y': 379, 'w': 653, 'h': 653},\n",
       "  'gender': {'Woman': 0.15638311160728335, 'Man': 99.84361529350281},\n",
       "  'dominant_gender': 'Man',\n",
       "  'race': {'asian': 11.898432672023773,\n",
       "   'indian': 41.596221923828125,\n",
       "   'black': 7.704432308673859,\n",
       "   'white': 3.5118289291858673,\n",
       "   'middle eastern': 3.9340823888778687,\n",
       "   'latino hispanic': 31.35499656200409},\n",
       "  'dominant_race': 'indian',\n",
       "  'emotion': {'angry': 15.027472376823425,\n",
       "   'disgust': 6.591853320969676e-05,\n",
       "   'fear': 0.5727230571210384,\n",
       "   'happy': 0.16688751056790352,\n",
       "   'sad': 9.151430428028107,\n",
       "   'surprise': 0.001399725351802772,\n",
       "   'neutral': 75.08001923561096},\n",
       "  'dominant_emotion': 'neutral'}]"
      ]
     },
     "execution_count": 4,
     "metadata": {},
     "output_type": "execute_result"
    }
   ],
   "source": [
    "face"
   ]
  },
  {
   "cell_type": "code",
   "execution_count": 5,
   "id": "265472ab",
   "metadata": {},
   "outputs": [
    {
     "name": "stderr",
     "output_type": "stream",
     "text": [
      "Action: emotion: 100%|███████████████████████████████████████████████████████████████████████████████████████████████████████████| 4/4 [00:00<00:00,  9.12it/s]\n"
     ]
    }
   ],
   "source": [
    "face_ben = DeepFace.analyze(img_path = 'ben2.jpg', actions = ['age', 'gender', 'race', 'emotion'])"
   ]
  },
  {
   "cell_type": "code",
   "execution_count": 6,
   "id": "9c13ef91",
   "metadata": {},
   "outputs": [
    {
     "data": {
      "text/plain": [
       "[{'age': 28,\n",
       "  'region': {'x': 46, 'y': 62, 'w': 216, 'h': 216},\n",
       "  'gender': {'Woman': 6.64333640543191e-05, 'Man': 99.99992847442627},\n",
       "  'dominant_gender': 'Man',\n",
       "  'race': {'asian': 8.40175221061834e-09,\n",
       "   'indian': 3.776473300742822e-08,\n",
       "   'black': 1.1982489653283857e-10,\n",
       "   'white': 99.99382495880127,\n",
       "   'middle eastern': 0.0038306530768750235,\n",
       "   'latino hispanic': 0.0023481386961066164},\n",
       "  'dominant_race': 'white',\n",
       "  'emotion': {'angry': 23.19833359738188,\n",
       "   'disgust': 2.9831294764292154e-05,\n",
       "   'fear': 2.3204558556728534,\n",
       "   'happy': 0.10826391972808007,\n",
       "   'sad': 16.141841871518867,\n",
       "   'surprise': 0.0008584214697157051,\n",
       "   'neutral': 58.23021432993241},\n",
       "  'dominant_emotion': 'neutral'}]"
      ]
     },
     "execution_count": 6,
     "metadata": {},
     "output_type": "execute_result"
    }
   ],
   "source": [
    "face_ben"
   ]
  },
  {
   "cell_type": "code",
   "execution_count": 7,
   "id": "74fc32d3",
   "metadata": {},
   "outputs": [
    {
     "name": "stderr",
     "output_type": "stream",
     "text": [
      "Action: emotion: 100%|███████████████████████████████████████████████████████████████████████████████████████████████████████████| 4/4 [00:00<00:00,  7.80it/s]\n"
     ]
    }
   ],
   "source": [
    "face_madona = DeepFace.analyze(img_path = 'madona.jpg', actions = ['age', 'gender', 'race', 'emotion'])"
   ]
  },
  {
   "cell_type": "code",
   "execution_count": 8,
   "id": "1cd8a8c8",
   "metadata": {},
   "outputs": [
    {
     "data": {
      "text/plain": [
       "[{'age': 35,\n",
       "  'region': {'x': 76, 'y': 57, 'w': 122, 'h': 122},\n",
       "  'gender': {'Woman': 100.0, 'Man': 5.711953576792439e-06},\n",
       "  'dominant_gender': 'Woman',\n",
       "  'race': {'asian': 8.2453325944698e-06,\n",
       "   'indian': 3.6963431426784155e-06,\n",
       "   'black': 4.19942830509612e-08,\n",
       "   'white': 99.96851682662964,\n",
       "   'middle eastern': 0.008670864917803556,\n",
       "   'latino hispanic': 0.022799675934948027},\n",
       "  'dominant_race': 'white',\n",
       "  'emotion': {'angry': 1.2812246552584838e-05,\n",
       "   'disgust': 4.057101876675517e-09,\n",
       "   'fear': 1.0270075456730865e-06,\n",
       "   'happy': 95.71486711502075,\n",
       "   'sad': 0.00022707085918227676,\n",
       "   'surprise': 0.0031975148885976523,\n",
       "   'neutral': 4.281700029969215},\n",
       "  'dominant_emotion': 'happy'}]"
      ]
     },
     "execution_count": 8,
     "metadata": {},
     "output_type": "execute_result"
    }
   ],
   "source": [
    "face_madona"
   ]
  },
  {
   "cell_type": "code",
   "execution_count": 13,
   "id": "0a141725",
   "metadata": {},
   "outputs": [
    {
     "data": {
      "text/plain": [
       "35"
      ]
     },
     "execution_count": 13,
     "metadata": {},
     "output_type": "execute_result"
    }
   ],
   "source": [
    "face_madona[0]['age']"
   ]
  },
  {
   "cell_type": "code",
   "execution_count": 14,
   "id": "ff22300c",
   "metadata": {},
   "outputs": [
    {
     "data": {
      "text/plain": [
       "'Woman'"
      ]
     },
     "execution_count": 14,
     "metadata": {},
     "output_type": "execute_result"
    }
   ],
   "source": [
    "face_madona[0]['dominant_gender']"
   ]
  },
  {
   "cell_type": "code",
   "execution_count": 15,
   "id": "fa883c74",
   "metadata": {},
   "outputs": [
    {
     "data": {
      "text/plain": [
       "'happy'"
      ]
     },
     "execution_count": 15,
     "metadata": {},
     "output_type": "execute_result"
    }
   ],
   "source": [
    "face_madona[0]['dominant_emotion']"
   ]
  },
  {
   "cell_type": "code",
   "execution_count": 16,
   "id": "df3dbdc0",
   "metadata": {},
   "outputs": [
    {
     "data": {
      "text/plain": [
       "'white'"
      ]
     },
     "execution_count": 16,
     "metadata": {},
     "output_type": "execute_result"
    }
   ],
   "source": [
    "face_madona[0]['dominant_race']"
   ]
  },
  {
   "cell_type": "code",
   "execution_count": 17,
   "id": "a775c6b5",
   "metadata": {},
   "outputs": [
    {
     "name": "stdout",
     "output_type": "stream",
     "text": [
      "Age: 35\n",
      "Gender: Woman\n",
      "Race: white\n",
      "Emotion: happy\n",
      "\n"
     ]
    }
   ],
   "source": [
    "for item in face_madona:\n",
    "    age = item['age']\n",
    "    dominant_gender = item['dominant_gender']\n",
    "    dominant_race = item['dominant_race']\n",
    "    dominant_emotion = item['dominant_emotion']\n",
    "\n",
    "    print(\"Age:\", age)\n",
    "    print(\"Gender:\", dominant_gender)\n",
    "    print(\"Race:\", dominant_race)\n",
    "    print(\"Emotion:\", dominant_emotion)\n",
    "    print()  "
   ]
  },
  {
   "cell_type": "code",
   "execution_count": null,
   "id": "b0883321",
   "metadata": {},
   "outputs": [],
   "source": []
  }
 ],
 "metadata": {
  "kernelspec": {
   "display_name": "deep",
   "language": "python",
   "name": "deep"
  },
  "language_info": {
   "codemirror_mode": {
    "name": "ipython",
    "version": 3
   },
   "file_extension": ".py",
   "mimetype": "text/x-python",
   "name": "python",
   "nbconvert_exporter": "python",
   "pygments_lexer": "ipython3",
   "version": "3.7.0"
  }
 },
 "nbformat": 4,
 "nbformat_minor": 5
}
