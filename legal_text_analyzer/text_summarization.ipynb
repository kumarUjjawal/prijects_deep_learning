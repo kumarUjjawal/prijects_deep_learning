{
 "cells": [
  {
   "cell_type": "markdown",
   "id": "ebd38df8",
   "metadata": {},
   "source": [
    "# Text Summarization From URL"
   ]
  },
  {
   "cell_type": "code",
   "execution_count": null,
   "id": "ea5d101d",
   "metadata": {},
   "outputs": [],
   "source": [
    "from newspaper import Article\n",
    "from newspaper import Config\n",
    "import gradio as gr\n",
    "from gradio.mix import Parallel, Series"
   ]
  },
  {
   "cell_type": "code",
   "execution_count": null,
   "id": "33d87bf9",
   "metadata": {},
   "outputs": [],
   "source": [
    "#Mozilla/5.0 (X11; Linux x86_64; rv:109.0) Gecko/20100101 Firefox/113.0\n",
    "\n",
    "def extrac_text(url):\n",
    "    USER_AGENT = 'Mozilla/5.0 (X11; Linux x86_64; rv:109.0) Gecko/20100101 Firefox/113.0'\n",
    "    config = Config()\n",
    "    config.browser_user_agent = USER_AGENT\n",
    "    config.request_timeout = 10\n",
    "\n",
    "    article = Article(url, config=config)\n",
    "    article.download()\n",
    "    article.parse()\n",
    "    text = article.text\n",
    "    return text\n",
    "\n",
    "extractor = gr.Interface(extrac_text, 'text', 'text')\n",
    "summarizer = gr.Interface.load(\"huggingface/facebook/bart-large\")"
   ]
  },
  {
   "cell_type": "code",
   "execution_count": null,
   "id": "60cba82c",
   "metadata": {},
   "outputs": [],
   "source": [
    "desc =  '''\n",
    "         The Summarizer app uses bart-large model by Facebook to summarize the text of a URL article.\n",
    "        '''"
   ]
  },
  {
   "cell_type": "code",
   "execution_count": null,
   "id": "754651e6",
   "metadata": {},
   "outputs": [],
   "source": [
    "iface = Series(extractor, summarizer, \n",
    "  inputs = gr.inputs.Textbox(\n",
    "      lines = 2,\n",
    "      label = 'Enter URL below'\n",
    "  ),\n",
    "  outputs = 'text',\n",
    "  title = 'News Summarizer',\n",
    "  theme = 'grass',\n",
    "  layout = 'horizontal',\n",
    "  description = desc,)\n",
    "  #examples=sample_url)\n",
    "\n",
    "iface.launch()"
   ]
  },
  {
   "cell_type": "code",
   "execution_count": null,
   "id": "6f3bcc0a",
   "metadata": {},
   "outputs": [],
   "source": []
  }
 ],
 "metadata": {
  "kernelspec": {
   "display_name": "Python 3 (ipykernel)",
   "language": "python",
   "name": "python3"
  },
  "language_info": {
   "codemirror_mode": {
    "name": "ipython",
    "version": 3
   },
   "file_extension": ".py",
   "mimetype": "text/x-python",
   "name": "python",
   "nbconvert_exporter": "python",
   "pygments_lexer": "ipython3",
   "version": "3.11.3"
  }
 },
 "nbformat": 4,
 "nbformat_minor": 5
}
