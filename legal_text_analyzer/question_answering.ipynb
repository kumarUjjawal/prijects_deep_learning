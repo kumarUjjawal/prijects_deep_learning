{
 "cells": [
  {
   "cell_type": "markdown",
   "id": "1ee07be9",
   "metadata": {},
   "source": [
    "# Question and Answers Prompt For Legal Documents"
   ]
  },
  {
   "cell_type": "code",
   "execution_count": 4,
   "id": "f38e7a39",
   "metadata": {},
   "outputs": [],
   "source": [
    "docs = ['The appellant having been convicted under Section 80 of the Karnataka Police Act, 1963 (for short, ‘the 1963 Act’) has filed the present appeal.',\n",
    "          'Notice in the appeal was issued on 27.02.2023 limited to the extent of consideration as to whether the appellant can be granted benefit of probation.',\n",
    "           'The brief facts of the case are that FIR dated 16.8.2007 was registered against 24 accused persons including the appellant under sections 79 and 80 of the 1963 Act as they were found to be indulging in gambling.',\n",
    "          'The charge sheet was filed and the Trial Court vide order dated 21.8.2007 convicted them under Section 79 & 80 of the 1963 Act and sentenced them to undergo imprisonment for a period of one yeareach under both the provisions along with a fine of ₹ 600/- after the accused had pleaded guilty.'\n",
    "         ]\n",
    "\n",
    "query = [\"On what Section the appelant was convicted?\"]\n"
   ]
  },
  {
   "cell_type": "code",
   "execution_count": 10,
   "id": "7b109ed3",
   "metadata": {},
   "outputs": [],
   "source": [
    "from sentence_transformers import SentenceTransformer, util\n",
    "\n",
    "#Load the model\n",
    "model = SentenceTransformer('sentence-transformers/multi-qa-MiniLM-L6-cos-v1')\n",
    "\n",
    "#Encode query and documents\n",
    "query_emb = model.encode(query)\n",
    "doc_emb = model.encode(docs)\n",
    "\n",
    "#Compute dot score between query and all document embeddings\n",
    "scores = util.dot_score(query_emb, doc_emb)[0].cpu().tolist()\n",
    "\n",
    "#Combine docs & scores\n",
    "doc_score_pairs = list(zip(docs, scores))\n",
    "\n",
    "#Sort by decreasing score\n",
    "doc_score_pairs = sorted(doc_score_pairs, key=lambda x: x[1], reverse=True)\n"
   ]
  },
  {
   "cell_type": "code",
   "execution_count": 11,
   "id": "5304a2cc",
   "metadata": {},
   "outputs": [
    {
     "data": {
      "text/plain": [
       "[('The charge sheet was filed and the Trial Court vide order dated 21.8.2007 convicted them under Section 79 & 80 of the 1963 Act and sentenced them to undergo imprisonment for a period of one yeareach under both the provisions along with a fine of ₹ 600/- after the accused had pleaded guilty.',\n",
       "  0.6195369958877563)]"
      ]
     },
     "execution_count": 11,
     "metadata": {},
     "output_type": "execute_result"
    }
   ],
   "source": [
    "#Output passages with maximum score\n",
    "doc_score_pairs[:1]"
   ]
  },
  {
   "cell_type": "code",
   "execution_count": 12,
   "id": "5975d8cb",
   "metadata": {},
   "outputs": [
    {
     "data": {
      "application/vnd.jupyter.widget-view+json": {
       "model_id": "39aeab04415d4dc0b93d8be65aad901c",
       "version_major": 2,
       "version_minor": 0
      },
      "text/plain": [
       "Downloading (…)okenizer_config.json:   0%|          | 0.00/107 [00:00<?, ?B/s]"
      ]
     },
     "metadata": {},
     "output_type": "display_data"
    },
    {
     "data": {
      "application/vnd.jupyter.widget-view+json": {
       "model_id": "53503123f190401cb9c0830a55bdd8f2",
       "version_major": 2,
       "version_minor": 0
      },
      "text/plain": [
       "Downloading (…)lve/main/config.json:   0%|          | 0.00/477 [00:00<?, ?B/s]"
      ]
     },
     "metadata": {},
     "output_type": "display_data"
    },
    {
     "data": {
      "application/vnd.jupyter.widget-view+json": {
       "model_id": "7b7bfb8e88024bf0a08b76efbb5fa0c0",
       "version_major": 2,
       "version_minor": 0
      },
      "text/plain": [
       "Downloading (…)solve/main/vocab.txt:   0%|          | 0.00/232k [00:00<?, ?B/s]"
      ]
     },
     "metadata": {},
     "output_type": "display_data"
    },
    {
     "data": {
      "application/vnd.jupyter.widget-view+json": {
       "model_id": "e5cc69391a774d7eb505ad9dffbe7953",
       "version_major": 2,
       "version_minor": 0
      },
      "text/plain": [
       "Downloading (…)cial_tokens_map.json:   0%|          | 0.00/112 [00:00<?, ?B/s]"
      ]
     },
     "metadata": {},
     "output_type": "display_data"
    }
   ],
   "source": [
    "from transformers import AutoTokenizer\n",
    "\n",
    "# Model page: https://huggingface.co/deepset/minilm-uncased-squad2 \n",
    "model_ckpt = \"deepset/minilm-uncased-squad2\"\n",
    "tokenizer = AutoTokenizer.from_pretrained(model_ckpt)\n"
   ]
  },
  {
   "cell_type": "code",
   "execution_count": 31,
   "id": "33eb5d93",
   "metadata": {},
   "outputs": [
    {
     "name": "stdout",
     "output_type": "stream",
     "text": [
      "[CLS] on what section the appelant were convicted? [SEP] the appellant having been convicted under section 80 of the karnataka police act, 1963 ( for short, ‘ the 1963 act ’ ) has filed the present appeal. [SEP]\n"
     ]
    }
   ],
   "source": [
    "context = ['The appellant having been convicted under Section 80 of the Karnataka Police Act, 1963 (for short, ‘the 1963 Act’) has filed the present appeal.',]\n",
    "\n",
    "question = [\"On what Section the appelant were convicted?\"]\n",
    "\n",
    "\n",
    "inputs = tokenizer(question, context, return_tensors=\"pt\")\n",
    "print(tokenizer.decode(inputs[\"input_ids\"][0]))"
   ]
  },
  {
   "cell_type": "code",
   "execution_count": 15,
   "id": "3c90d2cc",
   "metadata": {},
   "outputs": [
    {
     "data": {
      "application/vnd.jupyter.widget-view+json": {
       "model_id": "3104eb77d47f42c0b4ccd409ddac12a5",
       "version_major": 2,
       "version_minor": 0
      },
      "text/plain": [
       "Downloading pytorch_model.bin:   0%|          | 0.00/133M [00:00<?, ?B/s]"
      ]
     },
     "metadata": {},
     "output_type": "display_data"
    },
    {
     "name": "stdout",
     "output_type": "stream",
     "text": [
      "QuestionAnsweringModelOutput(loss=None, start_logits=tensor([[ 0.3214, -4.5442, -5.8110, -6.0528, -6.1171, -5.7079, -6.1160, -6.4792,\n",
      "         -6.1341, -5.9327, -6.6333,  0.3214, -3.3670, -1.9377, -5.9480, -3.6266,\n",
      "         -4.4707, -3.3391,  0.8898,  6.0573,  4.2786, -4.5633,  2.9414,  4.2382,\n",
      "         -1.8567, -3.4903, -5.2006, -0.2059, -3.8126, -4.6771, -5.4918, -5.0669,\n",
      "          0.0161,  1.3732, -0.5214, -4.2869, -4.8108, -3.8870, -5.5576, -5.7487,\n",
      "         -4.5185, -5.3228, -6.0512, -5.7679,  0.3214]]), end_logits=tensor([[ 0.4426, -6.6505, -6.3572, -5.6178, -6.1253, -6.5285, -6.1588, -5.4673,\n",
      "         -6.2583, -6.3197, -5.1253,  0.4426, -5.5266, -5.9630, -4.4588, -5.6780,\n",
      "         -6.4042, -5.4548, -4.3415, -0.8966,  5.9446, -3.0777, -2.6579, -1.2025,\n",
      "         -0.3754,  3.2214,  0.1343,  5.6785, -3.1645, -6.6984, -5.9521, -5.0107,\n",
      "         -4.6704, -4.1363, -1.2422,  1.3008,  0.5916,  1.5918, -5.2049, -5.8271,\n",
      "         -4.7443, -5.9232, -4.1225, -2.4251,  0.4426]]), hidden_states=None, attentions=None)\n"
     ]
    }
   ],
   "source": [
    "import torch\n",
    "from transformers import AutoModelForQuestionAnswering\n",
    "model = AutoModelForQuestionAnswering.from_pretrained(model_ckpt)\n",
    "\n",
    "with torch.no_grad():\n",
    "    outputs=model(**inputs)\n",
    "\n",
    "print(outputs)"
   ]
  },
  {
   "cell_type": "code",
   "execution_count": 32,
   "id": "b866887a",
   "metadata": {},
   "outputs": [
    {
     "name": "stdout",
     "output_type": "stream",
     "text": [
      "Input IDs: torch.Size([1, 45])\n",
      "Start Logits: torch.Size([1, 45])\n",
      "End Logits: torch.Size([1, 45])\n"
     ]
    }
   ],
   "source": [
    "start_logits = outputs.start_logits\n",
    "end_logits = outputs.end_logits\n",
    "print(f\"Input IDs: {inputs.input_ids.size()}\")\n",
    "print(f\"Start Logits: {start_logits.size()}\")\n",
    "print(f\"End Logits: {end_logits.size()}\")"
   ]
  },
  {
   "cell_type": "code",
   "execution_count": 33,
   "id": "e4536ccc",
   "metadata": {},
   "outputs": [],
   "source": [
    "# preprocess data\n",
    "sentence = tokenizer.decode(inputs[\"input_ids\"][0])\n",
    "x = sentence.replace('.', ' .').replace(',', ' ,').replace('?', ' ?').split()\n",
    "y = start_logits.numpy()[0]\n",
    "y2 = end_logits.numpy()[0]"
   ]
  },
  {
   "cell_type": "code",
   "execution_count": 34,
   "id": "159fa450",
   "metadata": {},
   "outputs": [
    {
     "name": "stdout",
     "output_type": "stream",
     "text": [
      "Q: ['On what Section the appelant were convicted?']\n",
      "A: section 80\n"
     ]
    }
   ],
   "source": [
    "start_idx = torch.argmax(start_logits)\n",
    "end_idx = torch.argmax(end_logits)+1\n",
    "\n",
    "# Get the maximum scoring start and end tokens then get the sentence within that\n",
    "answer_span = inputs[\"input_ids\"][0][start_idx:end_idx]\n",
    "answer = tokenizer.decode(answer_span)\n",
    "\n",
    "print(f\"Q: {question}\")\n",
    "print(f\"A: {answer}\")"
   ]
  },
  {
   "cell_type": "code",
   "execution_count": null,
   "id": "9af7ebe3",
   "metadata": {},
   "outputs": [],
   "source": []
  }
 ],
 "metadata": {
  "kernelspec": {
   "display_name": "Python 3 (ipykernel)",
   "language": "python",
   "name": "python3"
  },
  "language_info": {
   "codemirror_mode": {
    "name": "ipython",
    "version": 3
   },
   "file_extension": ".py",
   "mimetype": "text/x-python",
   "name": "python",
   "nbconvert_exporter": "python",
   "pygments_lexer": "ipython3",
   "version": "3.11.3"
  }
 },
 "nbformat": 4,
 "nbformat_minor": 5
}
