{
 "cells": [
  {
   "cell_type": "code",
   "execution_count": 4,
   "id": "7e3e24e7",
   "metadata": {},
   "outputs": [
    {
     "name": "stdout",
     "output_type": "stream",
     "text": [
      "Username:  leomessi\n",
      "User ID:  427553890\n",
      "Number of Posts:  1036\n",
      "Followers Count:  468344971\n",
      "Following Count:  290\n",
      "Bio:  Bienvenidos a la cuenta oficial de Instagram de Leo Messi / Welcome to the official Leo Messi Instagram account\n",
      "External URL:  http://themessistore.com/\n"
     ]
    }
   ],
   "source": [
    "import instaloader\n",
    "import pandas as pd\n",
    " \n",
    "# Creating an instance of the Instaloader class\n",
    "bot = instaloader.Instaloader()\n",
    " \n",
    "# Loading a profile from an Instagram handle\n",
    "profile = instaloader.Profile.from_username(bot.context, 'leomessi')\n",
    "print(\"Username: \", profile.username)\n",
    "print(\"User ID: \", profile.userid)\n",
    "print(\"Number of Posts: \", profile.mediacount)\n",
    "print(\"Followers Count: \", profile.followers)\n",
    "print(\"Following Count: \", profile.followees)\n",
    "print(\"Bio: \", profile.biography)\n",
    "print(\"External URL: \", profile.external_url)"
   ]
  },
  {
   "cell_type": "code",
   "execution_count": 7,
   "id": "3821426b",
   "metadata": {},
   "outputs": [
    {
     "ename": "BadCredentialsException",
     "evalue": "Login error: Wrong password.",
     "output_type": "error",
     "traceback": [
      "\u001b[0;31m---------------------------------------------------------------------------\u001b[0m",
      "\u001b[0;31mBadCredentialsException\u001b[0m                   Traceback (most recent call last)",
      "Cell \u001b[0;32mIn[7], line 5\u001b[0m\n\u001b[1;32m      3\u001b[0m \u001b[38;5;66;03m# Creating an instance of the Instaloader class\u001b[39;00m\n\u001b[1;32m      4\u001b[0m bot \u001b[38;5;241m=\u001b[39m instaloader\u001b[38;5;241m.\u001b[39mInstaloader()\n\u001b[0;32m----> 5\u001b[0m \u001b[43mbot\u001b[49m\u001b[38;5;241;43m.\u001b[39;49m\u001b[43mlogin\u001b[49m\u001b[43m(\u001b[49m\u001b[43muser\u001b[49m\u001b[38;5;241;43m=\u001b[39;49m\u001b[38;5;124;43m\"\u001b[39;49m\u001b[38;5;124;43mYour_username\u001b[39;49m\u001b[38;5;124;43m\"\u001b[39;49m\u001b[43m,\u001b[49m\u001b[43m \u001b[49m\u001b[43mpasswd\u001b[49m\u001b[38;5;241;43m=\u001b[39;49m\u001b[38;5;124;43m\"\u001b[39;49m\u001b[38;5;124;43mYour_password\u001b[39;49m\u001b[38;5;124;43m\"\u001b[39;49m\u001b[43m)\u001b[49m\n\u001b[1;32m      7\u001b[0m \u001b[38;5;66;03m# Loading a profile from an Instagram handle\u001b[39;00m\n\u001b[1;32m      8\u001b[0m profile \u001b[38;5;241m=\u001b[39m instaloader\u001b[38;5;241m.\u001b[39mProfile\u001b[38;5;241m.\u001b[39mfrom_username(bot\u001b[38;5;241m.\u001b[39mcontext, \u001b[38;5;124m'\u001b[39m\u001b[38;5;124mYour_target_account_insta_handle\u001b[39m\u001b[38;5;124m'\u001b[39m)\n",
      "File \u001b[0;32m~/.local/lib/python3.11/site-packages/instaloader/instaloader.py:634\u001b[0m, in \u001b[0;36mInstaloader.login\u001b[0;34m(self, user, passwd)\u001b[0m\n\u001b[1;32m    626\u001b[0m \u001b[38;5;28;01mdef\u001b[39;00m \u001b[38;5;21mlogin\u001b[39m(\u001b[38;5;28mself\u001b[39m, user: \u001b[38;5;28mstr\u001b[39m, passwd: \u001b[38;5;28mstr\u001b[39m) \u001b[38;5;241m-\u001b[39m\u001b[38;5;241m>\u001b[39m \u001b[38;5;28;01mNone\u001b[39;00m:\n\u001b[1;32m    627\u001b[0m \u001b[38;5;250m    \u001b[39m\u001b[38;5;124;03m\"\"\"Log in to instagram with given username and password and internally store session object.\u001b[39;00m\n\u001b[1;32m    628\u001b[0m \n\u001b[1;32m    629\u001b[0m \u001b[38;5;124;03m    :raises InvalidArgumentException: If the provided username does not exist.\u001b[39;00m\n\u001b[0;32m   (...)\u001b[0m\n\u001b[1;32m    632\u001b[0m \u001b[38;5;124;03m    :raises TwoFactorAuthRequiredException: First step of 2FA login done, now call\u001b[39;00m\n\u001b[1;32m    633\u001b[0m \u001b[38;5;124;03m       :meth:`Instaloader.two_factor_login`.\"\"\"\u001b[39;00m\n\u001b[0;32m--> 634\u001b[0m     \u001b[38;5;28;43mself\u001b[39;49m\u001b[38;5;241;43m.\u001b[39;49m\u001b[43mcontext\u001b[49m\u001b[38;5;241;43m.\u001b[39;49m\u001b[43mlogin\u001b[49m\u001b[43m(\u001b[49m\u001b[43muser\u001b[49m\u001b[43m,\u001b[49m\u001b[43m \u001b[49m\u001b[43mpasswd\u001b[49m\u001b[43m)\u001b[49m\n",
      "File \u001b[0;32m~/.local/lib/python3.11/site-packages/instaloader/instaloadercontext.py:257\u001b[0m, in \u001b[0;36mInstaloaderContext.login\u001b[0;34m(self, user, passwd)\u001b[0m\n\u001b[1;32m    254\u001b[0m \u001b[38;5;28;01mif\u001b[39;00m \u001b[38;5;129;01mnot\u001b[39;00m resp_json[\u001b[38;5;124m'\u001b[39m\u001b[38;5;124mauthenticated\u001b[39m\u001b[38;5;124m'\u001b[39m]:\n\u001b[1;32m    255\u001b[0m     \u001b[38;5;28;01mif\u001b[39;00m resp_json[\u001b[38;5;124m'\u001b[39m\u001b[38;5;124muser\u001b[39m\u001b[38;5;124m'\u001b[39m]:\n\u001b[1;32m    256\u001b[0m         \u001b[38;5;66;03m# '{\"authenticated\": false, \"user\": true, \"status\": \"ok\"}'\u001b[39;00m\n\u001b[0;32m--> 257\u001b[0m         \u001b[38;5;28;01mraise\u001b[39;00m BadCredentialsException(\u001b[38;5;124m'\u001b[39m\u001b[38;5;124mLogin error: Wrong password.\u001b[39m\u001b[38;5;124m'\u001b[39m)\n\u001b[1;32m    258\u001b[0m     \u001b[38;5;28;01melse\u001b[39;00m:\n\u001b[1;32m    259\u001b[0m         \u001b[38;5;66;03m# '{\"authenticated\": false, \"user\": false, \"status\": \"ok\"}'\u001b[39;00m\n\u001b[1;32m    260\u001b[0m         \u001b[38;5;66;03m# Raise InvalidArgumentException rather than BadCredentialException, because BadCredentialException\u001b[39;00m\n\u001b[1;32m    261\u001b[0m         \u001b[38;5;66;03m# triggers re-asking of password in Instaloader.interactive_login(), which makes no sense if the\u001b[39;00m\n\u001b[1;32m    262\u001b[0m         \u001b[38;5;66;03m# username is invalid.\u001b[39;00m\n\u001b[1;32m    263\u001b[0m         \u001b[38;5;28;01mraise\u001b[39;00m InvalidArgumentException(\u001b[38;5;124m'\u001b[39m\u001b[38;5;124mLogin error: User \u001b[39m\u001b[38;5;132;01m{}\u001b[39;00m\u001b[38;5;124m does not exist.\u001b[39m\u001b[38;5;124m'\u001b[39m\u001b[38;5;241m.\u001b[39mformat(user))\n",
      "\u001b[0;31mBadCredentialsException\u001b[0m: Login error: Wrong password."
     ]
    }
   ],
   "source": [
    "import pandas as pd\n",
    " \n",
    "# Creating an instance of the Instaloader class\n",
    "bot = instaloader.Instaloader()\n",
    "bot.login(user=\"Your_username\", passwd=\"Your_password\")\n",
    " \n",
    "# Loading a profile from an Instagram handle\n",
    "profile = instaloader.Profile.from_username(bot.context, 'Your_target_account_insta_handle')\n",
    " \n",
    "# Retrieving the usernames of all followers\n",
    "followers = [follower.username for follower in profile.get_followers()]\n",
    " \n",
    "# Converting the data to a DataFrame\n",
    "followers_df = pd.DataFrame(followers)\n",
    " \n",
    "# Storing the results in a CSV file\n",
    "followers_df.to_csv('followers.csv', index=False)\n",
    " \n",
    "# Retrieving the usernames of all followings\n",
    "followings = [followee.username for followee in profile.get_followees()]\n",
    " \n",
    "# Converting the data to a DataFrame\n",
    "followings_df = pd.DataFrame(followings)\n",
    " \n",
    "# Storing the results in a CSV file\n",
    "followings_df.to_csv('followings.csv', index=False)"
   ]
  },
  {
   "cell_type": "code",
   "execution_count": null,
   "id": "bd2e6b25",
   "metadata": {},
   "outputs": [],
   "source": []
  }
 ],
 "metadata": {
  "kernelspec": {
   "display_name": "Python 3 (ipykernel)",
   "language": "python",
   "name": "python3"
  },
  "language_info": {
   "codemirror_mode": {
    "name": "ipython",
    "version": 3
   },
   "file_extension": ".py",
   "mimetype": "text/x-python",
   "name": "python",
   "nbconvert_exporter": "python",
   "pygments_lexer": "ipython3",
   "version": "3.11.3"
  }
 },
 "nbformat": 4,
 "nbformat_minor": 5
}
